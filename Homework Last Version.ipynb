{
 "cells": [
  {
   "cell_type": "markdown",
   "metadata": {},
   "source": [
    "# HOMEWORK 1"
   ]
  },
  {
   "cell_type": "markdown",
   "metadata": {},
   "source": [
    "Take 5 values from the user and write a program that prints the values you get on the screen.\n",
    "\n",
    "Print the type of values you received in this program on the screen.\n",
    "\n",
    "When using print functions, do not forget to use f-string and format usage in your program."
   ]
  },
  {
   "cell_type": "code",
   "execution_count": 92,
   "metadata": {},
   "outputs": [
    {
     "name": "stdout",
     "output_type": "stream",
     "text": [
      "Please enter 1. value:true\n",
      "Value type of \"true\" is: BOOL\n",
      "Please enter 2. value:FALSE\n",
      "Value type of \"FALSE\" is: BOOL\n",
      "Please enter 3. value:6\n",
      "Value type of \"6\"is: INTEGER\n",
      "None\n",
      "Please enter 4. value:10.6\n",
      "Value type of \"10.6\" is: FLOAT\n",
      "None\n",
      "Please enter 5. value:HAYRİYE LOKMACI\n",
      "Value type of \"HAYRİYE LOKMACI\" is: STRING\n",
      "None\n"
     ]
    }
   ],
   "source": [
    "def get_valuetype(x):\n",
    "    \n",
    "        try:\n",
    "            int(x)\n",
    "            print(f'Value type of \"{x}\"is: INTEGER')\n",
    "        except ValueError:\n",
    "            try:\n",
    "                float(x)\n",
    "                print(f'Value type of \"{x}\" is: FLOAT')\n",
    "            except ValueError:\n",
    "                print(f'Value type of \"{x}\" is: STRING')        \n",
    "       \n",
    "for i in range(5):\n",
    "    i+=1\n",
    "    value = input(\"Please enter \" + str(i) + \". value:\")\n",
    "    if (value.upper() == 'TRUE' or value.upper() == 'FALSE'):\n",
    "        print(f'Value type of \"{value}\" is: BOOL')\n",
    "    else:\n",
    "        print(get_valuetype(value))"
   ]
  },
  {
   "cell_type": "markdown",
   "metadata": {},
   "source": [
    "# HOMEWORK 2 (User Identification Program)"
   ]
  },
  {
   "cell_type": "markdown",
   "metadata": {},
   "source": [
    "The user will be defined. Get the data of this user by input method. Obtain information from user as follow:\n",
    "    *Firs Name\n",
    "    *Last Name\n",
    "    *Age\n",
    "    *Date of Birth (just year)\n",
    "\n",
    "Pass the user's information to the list and displays the screen using the for loop. Print all user information on the screen.\n",
    "\n",
    "If he is under 18, print \"You can't go out because it's too dangerous\" on the screen.\n",
    "\n",
    "If he is over 18, print \"You can go out to the street.\" on the screen."
   ]
  },
  {
   "cell_type": "code",
   "execution_count": 125,
   "metadata": {},
   "outputs": [
    {
     "name": "stdout",
     "output_type": "stream",
     "text": [
      "Please write your informations below.\n",
      "First name:hayriye\n",
      "Last name:lokmacı\n",
      "Age:28\n",
      "Date of Birth (just year):1992\n",
      "hayriye\n",
      "lokmacı\n",
      "28\n",
      "1992\n",
      "You can go out to the street.\n"
     ]
    }
   ],
   "source": [
    "import datetime\n",
    "now = datetime.datetime.now().year\n",
    "\n",
    "print(\"Please write your informations below.\")\n",
    "first_name = input(\"First name:\")\n",
    "last_name = input(\"Last name:\")\n",
    "age = int(input(\"Age:\"))\n",
    "birth = int(input(\"Date of Birth (just year):\"))\n",
    "\n",
    "user = [first_name, last_name, age, birth]\n",
    "for i in user:\n",
    "    print(i)\n",
    "if ( now-birth >=18):\n",
    "    print(\"You can go out to the street.\")\n",
    "else:\n",
    "    print(\"You can't go out because it's too dangerous\")\n",
    "    \n"
   ]
  },
  {
   "cell_type": "markdown",
   "metadata": {},
   "source": [
    "# HOMEWORK 3 (Hangman Game)"
   ]
  },
  {
   "cell_type": "markdown",
   "metadata": {},
   "source": [
    "You are free on this assignment.\n",
    "You can set the rules yourself. There is only one thing expected of you.\n",
    "When entering the game, The User's name and for example \"Wellcome John\" should be pressed to the screen.\n",
    "When the game is over, exit the game. So let the game end.\n"
   ]
  },
  {
   "cell_type": "code",
   "execution_count": 15,
   "metadata": {},
   "outputs": [
    {
     "name": "stdout",
     "output_type": "stream",
     "text": [
      "Please enter your name:hayriye\n",
      "Wellcome hayriye!\n",
      "Do you wanna save a life? Then guess the word:\n",
      "['_', '_', '_', '_']\n",
      "Do you want to guess the word? if you want press: 'Y', if you don't want press: 'N'y\n",
      "Guess the word:pink\n",
      "Here we start to see HANGMAN!\n",
      "['>']\n",
      "Do you want to guess the word? if you want press: 'Y', if you don't want press: 'N'n\n",
      "Type a letter you think exists in this word:a\n",
      "Here we start to see HANGMAN!\n",
      "['>', '-']\n",
      "Do you want to guess the word? if you want press: 'Y', if you don't want press: 'N'n\n",
      "Type a letter you think exists in this word:w\n",
      "Here we start to see HANGMAN!\n",
      "['>', '-', '-']\n",
      "Do you want to guess the word? if you want press: 'Y', if you don't want press: 'N'\n",
      "Type a letter you think exists in this word:o\n",
      "Bingo! ['_', 'o', '_', '_']\n",
      "Do you want to guess the word? if you want press: 'Y', if you don't want press: 'N'home\n",
      "Type a letter you think exists in this word:m\n",
      "Bingo! ['_', 'o', 'm', '_']\n",
      "Do you want to guess the word? if you want press: 'Y', if you don't want press: 'N'y\n",
      "Guess the word:home\n"
     ]
    },
    {
     "ename": "SystemExit",
     "evalue": "I proud of with you <3",
     "output_type": "error",
     "traceback": [
      "An exception has occurred, use %tb to see the full traceback.\n",
      "\u001b[1;31mSystemExit\u001b[0m\u001b[1;31m:\u001b[0m I proud of with you <3\n"
     ]
    },
    {
     "name": "stderr",
     "output_type": "stream",
     "text": [
      "C:\\ProgramData\\Anaconda3\\lib\\site-packages\\IPython\\core\\interactiveshell.py:3426: UserWarning: To exit: use 'exit', 'quit', or Ctrl-D.\n",
      "  warn(\"To exit: use 'exit', 'quit', or Ctrl-D.\", stacklevel=1)\n"
     ]
    }
   ],
   "source": [
    "import random as rnd\n",
    "import sys\n",
    "\n",
    "name = input(\"Please enter your name:\")\n",
    "print(f'Wellcome {name}!')\n",
    "print(\"Do you wanna save a life? Then guess the word:\")\n",
    "words = [\"home\", \"work\", \"tea\", \"orange\", \"pink\"]\n",
    "\n",
    "def randomWord(words):  # choose a word randomly.\n",
    "  index = rnd.randint(0, len(words)-1)\n",
    "  return words[index]\n",
    "\n",
    "hidden_word = randomWord(words)\n",
    "hidden_word_list = list(hidden_word)\n",
    "hangman = [\">\",\"-\",\"-\",\">\",\"O\"]\n",
    "\n",
    "#def question(hidden_word):\n",
    "    #print(\"_ \"*len(hidden_word_list))\n",
    "    \n",
    "hint = \"_ \"*len(hidden_word_list)\n",
    "hint_list = list(hint)\n",
    "for i in hint_list:\n",
    "    hint_list.remove(' ')\n",
    "    \n",
    "print(hint_list)\n",
    "\n",
    "#for i in hidden_word_list:\n",
    "    \n",
    "count=0\n",
    "for i in range(10000000):\n",
    "    if hint_list == hidden_word_list:\n",
    "        sys.exit(\"Congragulations, you save the man <3\")\n",
    "    else:   \n",
    "        answer = input(\"Do you want to guess the word? if you want press: 'Y', if you don't want press: 'N'\")\n",
    "        if answer.capitalize() == \"Y\":\n",
    "            guess = input(\"Guess the word:\")\n",
    "            if guess == hidden_word:\n",
    "                sys.exit(\"I proud of with you <3\")\n",
    "            else:\n",
    "                count = count+1\n",
    "                if count <= 5:\n",
    "                    print(\"Here we start to see HANGMAN!\")\n",
    "                    print (hangman[0:count])\n",
    "                elif count == 5:\n",
    "                    print (hangman[0:count])\n",
    "                    sys.exit (\"You loose the game! HANGMAN :(\")\n",
    "                else:\n",
    "                    sys.exit (\"You loose the game! HANGMAN :(\")\n",
    "            \n",
    "        else:\n",
    "            letter = input(\"Type a letter you think exists in this word:\")\n",
    "            if letter in hidden_word_list:\n",
    "                ind = hidden_word_list.index(letter)\n",
    "                hint_list[ind]=letter\n",
    "                print(\"Bingo!\", hint_list)\n",
    "                if hint_list == hidden_word_list:\n",
    "                    sys.exit(\"Congragulations, you save the man <3\")\n",
    "            \n",
    "                \n",
    "            \n",
    "            else:\n",
    "                count = count+1\n",
    "                if count < 5:\n",
    "                    print(\"Here we start to see HANGMAN!\")\n",
    "                    print (hangman[0:count])\n",
    "                elif count == 5:\n",
    "                    print (hangman[0:count])\n",
    "                    sys.exit (\"You loose the game! HANGMAN :(\")\n",
    "                else:\n",
    "                    sys.exit (\"You loose the game! HANGMAN :(\")\n",
    "            \n",
    "\n",
    "print(\"Congragulations, you save the man <3\")          \n",
    "            "
   ]
  },
  {
   "cell_type": "markdown",
   "metadata": {},
   "source": [
    "# HOME WORK 4 (Student Management System)"
   ]
  },
  {
   "cell_type": "markdown",
   "metadata": {},
   "source": [
    "*One student must enter their name and surname.\n",
    "*A student who enter name and surname correctly should write \"Welcome\" on screen with print. The student has the right to enter his/her name and surname incorrectly 3 times. For more than 3 ,ncorrect entries, the system shuts down and the message \"Please try again later\" should be printed on the screen.\n",
    "*5 courses should be created and these courses should be kept in a list. All of these lessons should be taken from the user.\n",
    "*This student must choose one of these courses and take an exam. Add the grades from this course to a dictionary and keep the student's grades in this dictionary as midterm, final and project grades.\n",
    "    ** Example:{\"midterm\":38, \"final\":66, \"project\":89}\n",
    "*Percentages for grades\n",
    "    ** Midterm Exam: 30%\n",
    "    ** Final: 50%\n",
    "    ** Pproject: 20%\n",
    "*Determine a course passing grade according to the grades received.\n",
    "For notes:\n",
    "    ** if the grade is >90, the student should get AA.\n",
    "    ** if 70<grade<90 BB\n",
    "    ** if 50<grade<70 CC\n",
    "    ** if 30<grade<50 DD\n",
    "    ** if grade<30, let FF take\n",
    "*If the student has received FF, he/she should print his/her failure on the screen."
   ]
  },
  {
   "cell_type": "code",
   "execution_count": 11,
   "metadata": {},
   "outputs": [
    {
     "name": "stdout",
     "output_type": "stream",
     "text": [
      "['Ayşe', 'Selin', 'Mehmet', 'Ali']\n",
      "['Tata', 'Kılıç', 'Dağlı', 'Sunal']\n",
      "Enter your name:selin\n",
      "Enter your surname:kılıç\n",
      "Wellcome!\n",
      "You should choose a course. The course list is in below:\n",
      "['Math', 'Biology', 'Physics', 'Chemistry', 'Literature']\n",
      "Choose a Course:physics\n",
      "Your grade is 34.5 and you pass with DD\n"
     ]
    }
   ],
   "source": [
    "import sys\n",
    "\n",
    "\n",
    "\n",
    "UserData = {\"Name\":[\"Ayşe\", \"Selin\", \"Mehmet\", \"Ali\"],\"Surname\":[\"Tata\", \"Kılıç\", \"Dağlı\", \"Sunal\"]}\n",
    "print(UserData[\"Name\"])\n",
    "print(UserData[\"Surname\"])\n",
    "Courses = [\"Math\",\"Biology\",\"Physics\",\"Chemistry\", \"Literature\"]\n",
    "\n",
    "\n",
    "Midterm_Grades = {\"Ayşe\":[\"80\",\"34\",\"47\",\"97\",\"65\"], \"Selin\":[\"40\",\"32\",\"38\",\"47\",\"17\"], \"Mehmet\":[\"30\",\"57\",\"100\",\"94\",\"75\"], \"Ali\":[\"100\",\"73\",\"26\",\"61\",\"45\"]}\n",
    "Final_Grades = {\"Ayşe\":[\"50\",\"74\",\"63\",\"35\",\"42\"], \"Selin\":[\"55\",\"63\",\"35\",\"85\",\"53\"], \"Mehmet\":[\"48\",\"94\",\"80\",\"76\",\"88\"], \"Ali\":[\"68\",\"74\",\"30\",\"60\",\"40\"]}\n",
    "Project_Grades = {\"Ayşe\":[\"75\",\"63\",\"23\",\"92\",\"12\"], \"Selin\":[\"10\",\"50\",\"42\",\"30\",\"65\"], \"Mehmet\":[\"56\",\"79\",\"84\",\"100\",\"95\"], \"Ali\":[\"85\",\"0\",\"85\", \"50\",\"65\"]}\n",
    "Percentage = {\"Midterm\":\"0.30\",\"Final\":\"0.50\",\"Project\":\"0.20\"}\n",
    "\n",
    "\n",
    "for i in range(3):\n",
    "    count = i+1\n",
    "    name = input(\"Enter your name:\")\n",
    "    surname = input (\"Enter your surname:\")\n",
    "    if( name.capitalize()  in UserData[\"Name\"] and surname.capitalize() in UserData[\"Surname\"]):\n",
    "        print(\"Wellcome!\")\n",
    "        break\n",
    "    \n",
    "    elif(count == 3):\n",
    "        sys.exit(\"The system shuts down after 3 incorrect entries. Please try again later.\")\n",
    "    else:  \n",
    "        print(\"Your name or surname is incorrect.\")\n",
    "       \n",
    "\n",
    "    \n",
    "print(\"You should choose a course. The course list is in below:\")\n",
    "print(Courses)\n",
    "chosen = input(\"Choose a Course:\") \n",
    "   \n",
    "ind = Courses.index(chosen.capitalize())\n",
    "Midterm_list = Midterm_Grades[name.capitalize()]\n",
    "Midterm_grade = int(Midterm_list[ind])\n",
    "Midterm = Midterm_grade * float(Percentage[\"Midterm\"])\n",
    "    \n",
    "Final_list = Final_Grades[name.capitalize()]\n",
    "Final_grade = int(Final_list[ind])\n",
    "Final = Final_grade * float(Percentage[\"Midterm\"])\n",
    "    \n",
    "Project_list = Project_Grades[name.capitalize()]\n",
    "Project_grade = int(Project_list[ind])\n",
    "Project = Project_grade * float(Percentage[\"Midterm\"])\n",
    "    \n",
    "\n",
    "def achievement_check(grade):\n",
    "    if grade >= 90:\n",
    "        print(\"Your grade is\", grade, \"and you pass with AA\")\n",
    "    elif 70 <= grade < 90:\n",
    "        print(\"Your grade is\", grade, \"and you pass with BB\")\n",
    "    elif 50 <= grade < 70:\n",
    "        print(\"Your grade is\", grade, \"and you pass with CC\")\n",
    "    elif 30 <= grade < 50:\n",
    "        print(\"Your grade is\", grade, \"and you pass with DD\")\n",
    "    elif grade < 30:\n",
    "        print (\"Your grade is\", grade, \"and you faild with FF !\")\n",
    "        \n",
    "grade = Midterm + Final + Project\n",
    "achievement = achievement_check(grade)\n",
    "\n",
    "             "
   ]
  }
 ],
 "metadata": {
  "kernelspec": {
   "display_name": "Python 3",
   "language": "python",
   "name": "python3"
  },
  "language_info": {
   "codemirror_mode": {
    "name": "ipython",
    "version": 3
   },
   "file_extension": ".py",
   "mimetype": "text/x-python",
   "name": "python",
   "nbconvert_exporter": "python",
   "pygments_lexer": "ipython3",
   "version": "3.8.5"
  }
 },
 "nbformat": 4,
 "nbformat_minor": 4
}
